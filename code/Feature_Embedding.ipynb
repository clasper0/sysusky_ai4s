{
 "cells": [
  {
   "cell_type": "markdown",
   "metadata": {},
   "source": [
    "# 数据预处理及降维、聚类"
   ]
  },
  {
   "cell_type": "markdown",
   "metadata": {},
   "source": [
    "使用本地base，python=3.13"
   ]
  },
  {
   "cell_type": "markdown",
   "metadata": {},
   "source": [
    "## 导入库"
   ]
  },
  {
   "cell_type": "code",
   "execution_count": 2,
   "metadata": {},
   "outputs": [],
   "source": [
    "from rdkit import Chem\n",
    "from rdkit.Chem import AllChem\n",
    "from rdkit.Chem import Draw\n",
    "from rdkit.Chem import rdFingerprintGenerator   # for the fingerprint generation\n",
    "import numpy as np  # for the dimensionality reduction process of the fingerprint datas\n",
    "import os\n",
    "import pandas as pd\n",
    "from PIL import Image\n",
    "from rdkit.Chem.Draw import IPythonConsole\n",
    "IPythonConsole.ipython_useSVG=True"
   ]
  },
  {
   "cell_type": "markdown",
   "metadata": {},
   "source": [
    "## 路径设置"
   ]
  },
  {
   "cell_type": "code",
   "execution_count": 3,
   "metadata": {},
   "outputs": [
    {
     "name": "stdout",
     "output_type": "stream",
     "text": [
      "d:\\Codes\\sysusky_ai4s\n"
     ]
    }
   ],
   "source": [
    "work_dir = \"./\"\n",
    "print(os.getcwd())\n",
    "os.chdir(work_dir)"
   ]
  },
  {
   "cell_type": "markdown",
   "metadata": {},
   "source": [
    "## 读取文件得到分子mols对象列表"
   ]
  },
  {
   "cell_type": "code",
   "execution_count": 4,
   "metadata": {},
   "outputs": [
    {
     "name": "stdout",
     "output_type": "stream",
     "text": [
      "200\n",
      "[<rdkit.Chem.rdchem.Mol object at 0x0000023D7DA9D310>, <rdkit.Chem.rdchem.Mol object at 0x0000023D7DA9D2A0>, <rdkit.Chem.rdchem.Mol object at 0x0000023D7DA9D230>, <rdkit.Chem.rdchem.Mol object at 0x0000023D7DA9D460>, <rdkit.Chem.rdchem.Mol object at 0x0000023D7DA9D3F0>, <rdkit.Chem.rdchem.Mol object at 0x0000023D7DA9D4D0>, <rdkit.Chem.rdchem.Mol object at 0x0000023D7DA9D540>, <rdkit.Chem.rdchem.Mol object at 0x0000023D7DA9D380>, <rdkit.Chem.rdchem.Mol object at 0x0000023D7DA9D620>, <rdkit.Chem.rdchem.Mol object at 0x0000023D7DA9D5B0>, <rdkit.Chem.rdchem.Mol object at 0x0000023D7DA9D770>, <rdkit.Chem.rdchem.Mol object at 0x0000023D7DA9D700>, <rdkit.Chem.rdchem.Mol object at 0x0000023D7DA9D7E0>, <rdkit.Chem.rdchem.Mol object at 0x0000023D7DA9D8C0>, <rdkit.Chem.rdchem.Mol object at 0x0000023D7DA9D850>, <rdkit.Chem.rdchem.Mol object at 0x0000023D7DA9D690>, <rdkit.Chem.rdchem.Mol object at 0x0000023D7DA9D930>, <rdkit.Chem.rdchem.Mol object at 0x0000023D7DA9D9A0>, <rdkit.Chem.rdchem.Mol object at 0x0000023D7DA9DA10>, <rdkit.Chem.rdchem.Mol object at 0x0000023D7DA9DA80>, <rdkit.Chem.rdchem.Mol object at 0x0000023D7DA9DB60>, <rdkit.Chem.rdchem.Mol object at 0x0000023D7DA9DAF0>, <rdkit.Chem.rdchem.Mol object at 0x0000023D7DA9DC40>, <rdkit.Chem.rdchem.Mol object at 0x0000023D7DA9DCB0>, <rdkit.Chem.rdchem.Mol object at 0x0000023D7DA9DBD0>, <rdkit.Chem.rdchem.Mol object at 0x0000023D7DA9DD20>, <rdkit.Chem.rdchem.Mol object at 0x0000023D7DA9DE00>, <rdkit.Chem.rdchem.Mol object at 0x0000023D7DA9DD90>, <rdkit.Chem.rdchem.Mol object at 0x0000023D7DA9DE70>, <rdkit.Chem.rdchem.Mol object at 0x0000023D7DA9DEE0>, <rdkit.Chem.rdchem.Mol object at 0x0000023D7DA9DF50>, <rdkit.Chem.rdchem.Mol object at 0x0000023D7DA9E030>, <rdkit.Chem.rdchem.Mol object at 0x0000023D7DA9E110>, <rdkit.Chem.rdchem.Mol object at 0x0000023D7DA9E0A0>, <rdkit.Chem.rdchem.Mol object at 0x0000023D7DA9DFC0>, <rdkit.Chem.rdchem.Mol object at 0x0000023D7DA9E180>, <rdkit.Chem.rdchem.Mol object at 0x0000023D7DA9E1F0>, <rdkit.Chem.rdchem.Mol object at 0x0000023D7DA9E260>, <rdkit.Chem.rdchem.Mol object at 0x0000023D7DA9E340>, <rdkit.Chem.rdchem.Mol object at 0x0000023D7DA9E2D0>, <rdkit.Chem.rdchem.Mol object at 0x0000023D7DA9E490>, <rdkit.Chem.rdchem.Mol object at 0x0000023D7DA9E420>, <rdkit.Chem.rdchem.Mol object at 0x0000023D7DA9E3B0>, <rdkit.Chem.rdchem.Mol object at 0x0000023D7DA9E500>, <rdkit.Chem.rdchem.Mol object at 0x0000023D7DA9E570>, <rdkit.Chem.rdchem.Mol object at 0x0000023D7DA9E5E0>, <rdkit.Chem.rdchem.Mol object at 0x0000023D7DA9E650>, <rdkit.Chem.rdchem.Mol object at 0x0000023D7DA9E6C0>, <rdkit.Chem.rdchem.Mol object at 0x0000023D7DA9E730>, <rdkit.Chem.rdchem.Mol object at 0x0000023D7DA9E810>, <rdkit.Chem.rdchem.Mol object at 0x0000023D7DA9E880>, <rdkit.Chem.rdchem.Mol object at 0x0000023D7DA9E8F0>, <rdkit.Chem.rdchem.Mol object at 0x0000023D7DA9E7A0>, <rdkit.Chem.rdchem.Mol object at 0x0000023D7DA9E960>, <rdkit.Chem.rdchem.Mol object at 0x0000023D7DA9EA40>, <rdkit.Chem.rdchem.Mol object at 0x0000023D7DA9E9D0>, <rdkit.Chem.rdchem.Mol object at 0x0000023D7DA9EB20>, <rdkit.Chem.rdchem.Mol object at 0x0000023D7DA9EAB0>, <rdkit.Chem.rdchem.Mol object at 0x0000023D7DA9EB90>, <rdkit.Chem.rdchem.Mol object at 0x0000023D7DA9EC70>, <rdkit.Chem.rdchem.Mol object at 0x0000023D7DA9EC00>, <rdkit.Chem.rdchem.Mol object at 0x0000023D7DA9ECE0>, <rdkit.Chem.rdchem.Mol object at 0x0000023D7DA9ED50>, <rdkit.Chem.rdchem.Mol object at 0x0000023D7DA9EDC0>, <rdkit.Chem.rdchem.Mol object at 0x0000023D7DA9EEA0>, <rdkit.Chem.rdchem.Mol object at 0x0000023D7DA9EE30>, <rdkit.Chem.rdchem.Mol object at 0x0000023D7DA9EF10>, <rdkit.Chem.rdchem.Mol object at 0x0000023D7DA9F060>, <rdkit.Chem.rdchem.Mol object at 0x0000023D7DA9EFF0>, <rdkit.Chem.rdchem.Mol object at 0x0000023D7DA9F0D0>, <rdkit.Chem.rdchem.Mol object at 0x0000023D7DA9F140>, <rdkit.Chem.rdchem.Mol object at 0x0000023D7DA9F220>, <rdkit.Chem.rdchem.Mol object at 0x0000023D7DA9F1B0>, <rdkit.Chem.rdchem.Mol object at 0x0000023D7DA9F290>, <rdkit.Chem.rdchem.Mol object at 0x0000023D7DA9F300>, <rdkit.Chem.rdchem.Mol object at 0x0000023D7DA9EF80>, <rdkit.Chem.rdchem.Mol object at 0x0000023D7DA9F370>, <rdkit.Chem.rdchem.Mol object at 0x0000023D7DA9F4C0>, <rdkit.Chem.rdchem.Mol object at 0x0000023D7DA9F450>, <rdkit.Chem.rdchem.Mol object at 0x0000023D7DA9F530>, <rdkit.Chem.rdchem.Mol object at 0x0000023D7DA9F3E0>, <rdkit.Chem.rdchem.Mol object at 0x0000023D7DA3E7A0>, <rdkit.Chem.rdchem.Mol object at 0x0000023D7DA9F5A0>, <rdkit.Chem.rdchem.Mol object at 0x0000023D7DA9F610>, <rdkit.Chem.rdchem.Mol object at 0x0000023D7DA9F680>, <rdkit.Chem.rdchem.Mol object at 0x0000023D7DA9F6F0>, <rdkit.Chem.rdchem.Mol object at 0x0000023D7DA9F7D0>, <rdkit.Chem.rdchem.Mol object at 0x0000023D7DA9F840>, <rdkit.Chem.rdchem.Mol object at 0x0000023D7DA9F760>, <rdkit.Chem.rdchem.Mol object at 0x0000023D7DA9F8B0>, <rdkit.Chem.rdchem.Mol object at 0x0000023D7DA9F920>, <rdkit.Chem.rdchem.Mol object at 0x0000023D7DA9F990>, <rdkit.Chem.rdchem.Mol object at 0x0000023D7DA9FA00>, <rdkit.Chem.rdchem.Mol object at 0x0000023D7DA9FB50>, <rdkit.Chem.rdchem.Mol object at 0x0000023D7DA9FAE0>, <rdkit.Chem.rdchem.Mol object at 0x0000023D7DA9FBC0>, <rdkit.Chem.rdchem.Mol object at 0x0000023D7DA9FA70>, <rdkit.Chem.rdchem.Mol object at 0x0000023D7DA9FC30>, <rdkit.Chem.rdchem.Mol object at 0x0000023D7DA9FCA0>, <rdkit.Chem.rdchem.Mol object at 0x0000023D7DA9FD10>, <rdkit.Chem.rdchem.Mol object at 0x0000023D7DA9FD80>, <rdkit.Chem.rdchem.Mol object at 0x0000023D7DA9FDF0>, <rdkit.Chem.rdchem.Mol object at 0x0000023D7DA9FE60>, <rdkit.Chem.rdchem.Mol object at 0x0000023D7DA9FF40>, <rdkit.Chem.rdchem.Mol object at 0x0000023D7DA9FED0>, <rdkit.Chem.rdchem.Mol object at 0x0000023D7DAB0040>, <rdkit.Chem.rdchem.Mol object at 0x0000023D7DAB0120>, <rdkit.Chem.rdchem.Mol object at 0x0000023D7DAB00B0>, <rdkit.Chem.rdchem.Mol object at 0x0000023D7DAB0190>, <rdkit.Chem.rdchem.Mol object at 0x0000023D7DAB02E0>, <rdkit.Chem.rdchem.Mol object at 0x0000023D7DAB0270>, <rdkit.Chem.rdchem.Mol object at 0x0000023D7DAB0200>, <rdkit.Chem.rdchem.Mol object at 0x0000023D7DAB0350>, <rdkit.Chem.rdchem.Mol object at 0x0000023D7DAB0430>, <rdkit.Chem.rdchem.Mol object at 0x0000023D7DAB03C0>, <rdkit.Chem.rdchem.Mol object at 0x0000023D7DAB04A0>, <rdkit.Chem.rdchem.Mol object at 0x0000023D7DAB05F0>, <rdkit.Chem.rdchem.Mol object at 0x0000023D7DAB0580>, <rdkit.Chem.rdchem.Mol object at 0x0000023D7DAB0660>, <rdkit.Chem.rdchem.Mol object at 0x0000023D7DAB0510>, <rdkit.Chem.rdchem.Mol object at 0x0000023D7DAB06D0>, <rdkit.Chem.rdchem.Mol object at 0x0000023D7DAB0740>, <rdkit.Chem.rdchem.Mol object at 0x0000023D7DAB07B0>, <rdkit.Chem.rdchem.Mol object at 0x0000023D7DAB0820>, <rdkit.Chem.rdchem.Mol object at 0x0000023D7DAB0890>, <rdkit.Chem.rdchem.Mol object at 0x0000023D7DAB0970>, <rdkit.Chem.rdchem.Mol object at 0x0000023D7DAB0900>, <rdkit.Chem.rdchem.Mol object at 0x0000023D7DAB09E0>, <rdkit.Chem.rdchem.Mol object at 0x0000023D7DAB0AC0>, <rdkit.Chem.rdchem.Mol object at 0x0000023D7DAB0A50>, <rdkit.Chem.rdchem.Mol object at 0x0000023D7DAB0B30>, <rdkit.Chem.rdchem.Mol object at 0x0000023D7DAB0BA0>, <rdkit.Chem.rdchem.Mol object at 0x0000023D7DAB0C10>, <rdkit.Chem.rdchem.Mol object at 0x0000023D7DAB0C80>, <rdkit.Chem.rdchem.Mol object at 0x0000023D7DAB0CF0>, <rdkit.Chem.rdchem.Mol object at 0x0000023D7DAB0D60>, <rdkit.Chem.rdchem.Mol object at 0x0000023D7DAB0DD0>, <rdkit.Chem.rdchem.Mol object at 0x0000023D7DAB0E40>, <rdkit.Chem.rdchem.Mol object at 0x0000023D7DAB0EB0>, <rdkit.Chem.rdchem.Mol object at 0x0000023D7DAB0F20>, <rdkit.Chem.rdchem.Mol object at 0x0000023D7DAB0F90>, <rdkit.Chem.rdchem.Mol object at 0x0000023D7DAB1000>, <rdkit.Chem.rdchem.Mol object at 0x0000023D7DAB1070>, <rdkit.Chem.rdchem.Mol object at 0x0000023D7DAB1150>, <rdkit.Chem.rdchem.Mol object at 0x0000023D7DAB11C0>, <rdkit.Chem.rdchem.Mol object at 0x0000023D7DAB1230>, <rdkit.Chem.rdchem.Mol object at 0x0000023D7DAB12A0>, <rdkit.Chem.rdchem.Mol object at 0x0000023D7DAB10E0>, <rdkit.Chem.rdchem.Mol object at 0x0000023D7DAB1380>, <rdkit.Chem.rdchem.Mol object at 0x0000023D7DAB1310>, <rdkit.Chem.rdchem.Mol object at 0x0000023D7DAB13F0>, <rdkit.Chem.rdchem.Mol object at 0x0000023D7DAB1460>, <rdkit.Chem.rdchem.Mol object at 0x0000023D7DAB14D0>, <rdkit.Chem.rdchem.Mol object at 0x0000023D7DAB1540>, <rdkit.Chem.rdchem.Mol object at 0x0000023D7DAB1620>, <rdkit.Chem.rdchem.Mol object at 0x0000023D7DAB1690>, <rdkit.Chem.rdchem.Mol object at 0x0000023D7DAB15B0>, <rdkit.Chem.rdchem.Mol object at 0x0000023D7DAB1700>, <rdkit.Chem.rdchem.Mol object at 0x0000023D7DAB1770>, <rdkit.Chem.rdchem.Mol object at 0x0000023D7DAB17E0>, <rdkit.Chem.rdchem.Mol object at 0x0000023D7DAB1850>, <rdkit.Chem.rdchem.Mol object at 0x0000023D7DAB18C0>, <rdkit.Chem.rdchem.Mol object at 0x0000023D7DAB1930>, <rdkit.Chem.rdchem.Mol object at 0x0000023D7DAB1A10>, <rdkit.Chem.rdchem.Mol object at 0x0000023D7DAB19A0>, <rdkit.Chem.rdchem.Mol object at 0x0000023D7DAB1AF0>, <rdkit.Chem.rdchem.Mol object at 0x0000023D7DAB1A80>, <rdkit.Chem.rdchem.Mol object at 0x0000023D7DAB1B60>, <rdkit.Chem.rdchem.Mol object at 0x0000023D7DAB1C40>, <rdkit.Chem.rdchem.Mol object at 0x0000023D7DAB1BD0>, <rdkit.Chem.rdchem.Mol object at 0x0000023D7DAB1CB0>, <rdkit.Chem.rdchem.Mol object at 0x0000023D7DAB1D20>, <rdkit.Chem.rdchem.Mol object at 0x0000023D7DAB1E00>, <rdkit.Chem.rdchem.Mol object at 0x0000023D7DAB1E70>, <rdkit.Chem.rdchem.Mol object at 0x0000023D7DAB1D90>, <rdkit.Chem.rdchem.Mol object at 0x0000023D7DAB1EE0>, <rdkit.Chem.rdchem.Mol object at 0x0000023D7DAB1FC0>, <rdkit.Chem.rdchem.Mol object at 0x0000023D7DAB1F50>, <rdkit.Chem.rdchem.Mol object at 0x0000023D7DAB2030>, <rdkit.Chem.rdchem.Mol object at 0x0000023D7DAB20A0>, <rdkit.Chem.rdchem.Mol object at 0x0000023D7DAB2110>, <rdkit.Chem.rdchem.Mol object at 0x0000023D7DAB21F0>, <rdkit.Chem.rdchem.Mol object at 0x0000023D7DAB2260>, <rdkit.Chem.rdchem.Mol object at 0x0000023D7DAB2180>, <rdkit.Chem.rdchem.Mol object at 0x0000023D7DAB2340>, <rdkit.Chem.rdchem.Mol object at 0x0000023D7DAB22D0>, <rdkit.Chem.rdchem.Mol object at 0x0000023D7DAB23B0>, <rdkit.Chem.rdchem.Mol object at 0x0000023D7DAB2490>, <rdkit.Chem.rdchem.Mol object at 0x0000023D7DAB2420>, <rdkit.Chem.rdchem.Mol object at 0x0000023D7DAB2500>, <rdkit.Chem.rdchem.Mol object at 0x0000023D7DAB2570>, <rdkit.Chem.rdchem.Mol object at 0x0000023D7DAB25E0>, <rdkit.Chem.rdchem.Mol object at 0x0000023D7DAB2650>, <rdkit.Chem.rdchem.Mol object at 0x0000023D7DAB26C0>, <rdkit.Chem.rdchem.Mol object at 0x0000023D7DAB2730>, <rdkit.Chem.rdchem.Mol object at 0x0000023D7DAB2880>, <rdkit.Chem.rdchem.Mol object at 0x0000023D7DAB2810>, <rdkit.Chem.rdchem.Mol object at 0x0000023D7DAB28F0>, <rdkit.Chem.rdchem.Mol object at 0x0000023D7DAB27A0>, <rdkit.Chem.rdchem.Mol object at 0x0000023D7DAB2960>]\n"
     ]
    }
   ],
   "source": [
    "#设置SMILES的路径\n",
    "smi_file = \"./data/molecule.smi\"\n",
    "mol_ids = []\n",
    "mols = []\n",
    "invalid_mols = []\n",
    "\n",
    "#打开该路径\n",
    "with open(smi_file, \"r\") as f:\n",
    "    for line in f.readlines():\n",
    "        line = line.strip()\n",
    "        parts = line.split(\",\")\n",
    "        if parts[0] == \"molecule_id\":\n",
    "            continue\n",
    "        mol_id = parts[0].strip()\n",
    "        smiles = parts[1].strip()\n",
    "        mol = Chem.MolFromSmiles(smiles)\n",
    "        if mol is None:\n",
    "            invalid_mols.append((mol_id, smiles))\n",
    "            continue\n",
    "        mol_ids.append(mol_id)\n",
    "        mols.append(mol)\n",
    "\n",
    "# 得到 mol_ids(分子序号), mols(分子), invalid_mols(无效分子)\n",
    "print(len(mols))\n",
    "print(mols)"
   ]
  },
  {
   "cell_type": "markdown",
   "metadata": {},
   "source": [
    "## 绘制分子图形"
   ]
  },
  {
   "cell_type": "code",
   "execution_count": 5,
   "metadata": {},
   "outputs": [],
   "source": [
    "\n",
    "# 绘图\n",
    "grid_img = Draw.MolsToGridImage(\n",
    "    mols = mols, \n",
    "    molsPerRow = 20, \n",
    "    subImgSize = (500, 500), \n",
    "    legends = mol_ids, \n",
    "    maxMols=len(mols), \n",
    "    useSVG = True\n",
    ")\n",
    "# print(type(grid_img))\n",
    "\n",
    "svg_data = grid_img.data\n",
    "if isinstance(svg_data, bytes):\n",
    "    svg_str = svg_data.decode('utf-8')\n",
    "else:\n",
    "    svg_str = svg_data\n",
    "\n",
    "# with open(\"molecules.svg\", \"w\", encoding = \"utf-8\") as f:\n",
    "#     f.write(svg_str)"
   ]
  },
  {
   "cell_type": "markdown",
   "metadata": {},
   "source": [
    "## 分子指纹和特征向量构造\n",
    "\n",
    "返回了200*1000+的一个矩阵"
   ]
  },
  {
   "cell_type": "code",
   "execution_count": 6,
   "metadata": {},
   "outputs": [],
   "source": [
    "import numpy as np\n",
    "from rdkit import Chem\n",
    "from rdkit.Chem import Descriptors, Lipinski, Crippen, GraphDescriptors\n",
    "from rdkit.Chem import rdFingerprintGenerator\n",
    "\n",
    "def calculate_molecular_features(mol):\n",
    "    \"\"\"计算全面的分子特征向量，接受Mol对象作为输入\"\"\"\n",
    "    if mol is None:\n",
    "        return np.nan * np.ones(1061)  # 返回NaN数组表示无效分子\n",
    "    \n",
    "    # 初始化特征数组\n",
    "    features = []\n",
    "    \n",
    "    # 1. 使用推荐的Morgan指纹生成方法\n",
    "    mfpgen = rdFingerprintGenerator.GetMorganGenerator(radius=2, fpSize=1024)\n",
    "    fp = mfpgen.GetFingerprint(mol)\n",
    "    features.extend(list(fp))\n",
    "    \n",
    "    # 2. 物理化学性质\n",
    "    physchem_features = [\n",
    "        Descriptors.MolWt(mol),                         # 分子量\n",
    "        Descriptors.MolLogP(mol),                        # 疏水性 (LogP)\n",
    "        Descriptors.TPSA(mol),                           # 极性表面积\n",
    "        Descriptors.NumValenceElectrons(mol),            # 价电子数\n",
    "        Descriptors.NumRadicalElectrons(mol),            # 自由基电子数\n",
    "        Descriptors.FractionCSP3(mol),                  # sp3杂化碳比例\n",
    "        Descriptors.HeavyAtomCount(mol),                 # 重原子数\n",
    "        Lipinski.NHOHCount(mol),                         # NH和OH基团数\n",
    "        Lipinski.NOCount(mol),                           # N和O原子数\n",
    "        Crippen.MolMR(mol),                              # 摩尔折射率\n",
    "    ]\n",
    "    features.extend(physchem_features)\n",
    "    \n",
    "    # 3. 氢键特征\n",
    "    hbond_features = [\n",
    "        Lipinski.NumHDonors(mol),                       # 氢键供体数\n",
    "        Lipinski.NumHAcceptors(mol),                    # 氢键受体数\n",
    "        Lipinski.NumHeteroatoms(mol),                   # 杂原子数\n",
    "    ]\n",
    "    features.extend(hbond_features)\n",
    "    \n",
    "    # 4. 环系统特征\n",
    "    ring_features = [\n",
    "        Lipinski.RingCount(mol),                        # 环总数\n",
    "        Lipinski.NumAromaticRings(mol),                 # 芳香环数\n",
    "        Lipinski.NumAliphaticRings(mol),                # 脂肪环数\n",
    "        Lipinski.NumSaturatedRings(mol),               # 饱和环数\n",
    "        Lipinski.NumHeterocycles(mol),                  # 杂环数\n",
    "        GraphDescriptors.BalabanJ(mol),                 # Balaban指数\n",
    "        GraphDescriptors.BertzCT(mol),                  # Bertz拓扑指数\n",
    "    ]\n",
    "    features.extend(ring_features)\n",
    "    \n",
    "    # 5. 电荷分布特征\n",
    "    charge_features = [\n",
    "        Descriptors.MaxPartialCharge(mol),              # 最大部分电荷\n",
    "        Descriptors.MinPartialCharge(mol),              # 最小部分电荷\n",
    "        Descriptors.MaxAbsPartialCharge(mol),           # 最大绝对部分电荷\n",
    "        Descriptors.MinAbsPartialCharge(mol),           # 最小绝对部分电荷\n",
    "    ]\n",
    "    features.extend(charge_features)\n",
    "    \n",
    "    # 6. 立体化学特征\n",
    "    stereo_features = [\n",
    "        Descriptors.NumAtomStereoCenters(mol),          # 原子立体中心数\n",
    "        Descriptors.NumUnspecifiedAtomStereoCenters(mol), # 未指定立体中心数\n",
    "    ]\n",
    "    features.extend(stereo_features)\n",
    "    \n",
    "    # 7. 药效团特征\n",
    "    pharmacophore_features = [\n",
    "        Lipinski.NumRotatableBonds(mol),                # 可旋转键数\n",
    "        Lipinski.NumAmideBonds(mol),                    # 酰胺键数\n",
    "        Descriptors.NumAromaticCarbocycles(mol),        # 芳香碳环数\n",
    "        Descriptors.NumAromaticHeterocycles(mol),       # 芳香杂环数\n",
    "        Descriptors.NumSaturatedCarbocycles(mol),       # 饱和碳环数\n",
    "        Descriptors.NumSaturatedHeterocycles(mol),      # 饱和杂环数\n",
    "    ]\n",
    "    features.extend(pharmacophore_features)\n",
    "    \n",
    "    # 8. 自定义组合特征\n",
    "    # 这些特征组合了多个基本属性，能更好地表征分子性质\n",
    "    custom_features = [\n",
    "        physchem_features[0] / 100,                     # 分子量/100\n",
    "        physchem_features[1] * physchem_features[2],    # LogP * TPSA\n",
    "        hbond_features[0] + hbond_features[1],          # 总氢键能力\n",
    "        ring_features[0] / physchem_features[6],       # 环数/重原子数\n",
    "        pharmacophore_features[0] / physchem_features[0] * 1000, # 可旋转键密度\n",
    "    ]\n",
    "    features.extend(custom_features)\n",
    "    \n",
    "    return np.array(features)"
   ]
  },
  {
   "cell_type": "markdown",
   "metadata": {},
   "source": [
    "小测试"
   ]
  },
  {
   "cell_type": "code",
   "execution_count": 7,
   "metadata": {},
   "outputs": [
    {
     "name": "stdout",
     "output_type": "stream",
     "text": [
      "分子数量: 200\n"
     ]
    }
   ],
   "source": [
    "print(f\"分子数量: {len(mols)}\")  # 应该显示 200"
   ]
  },
  {
   "cell_type": "markdown",
   "metadata": {},
   "source": [
    "## 生成分子指纹及拼接的特征向量，并将其转换为Numpy数组"
   ]
  },
  {
   "cell_type": "code",
   "execution_count": 8,
   "metadata": {},
   "outputs": [
    {
     "name": "stdout",
     "output_type": "stream",
     "text": [
      "200\n",
      "X.shape: (200, 1061)\n",
      "[[ 0.          1.          0.         ...  7.          0.13333333\n",
      "  18.39215758]\n",
      " [ 0.          1.          0.         ...  5.          0.11764706\n",
      "  15.91374749]\n",
      " [ 0.          0.          0.         ...  6.          0.08695652\n",
      "   8.49470921]]\n"
     ]
    }
   ],
   "source": [
    "\n",
    "# 生成分子指纹及拼接的特征向量，并将其转换为Numpy数组\n",
    "\n",
    "fps = []\n",
    "\n",
    "for mol in mols:\n",
    "    fingerprint = calculate_molecular_features(mol)\n",
    "    if fingerprint is not None:\n",
    "        fps.append(fingerprint)\n",
    "\n",
    "X = np.array(fps)\n",
    "print(len(mols))\n",
    "print(\"X.shape:\", X.shape)\n",
    "print(X[:3])"
   ]
  },
  {
   "cell_type": "markdown",
   "metadata": {},
   "source": [
    "## 数据保存\n",
    "由于rdkit和umap不能同时跑，所以先保存再读取"
   ]
  },
  {
   "cell_type": "code",
   "execution_count": 11,
   "metadata": {},
   "outputs": [
    {
     "name": "stdout",
     "output_type": "stream",
     "text": [
      "已将分子指纹特征矩阵保存为 'molecular_fingerprints.npy'\n"
     ]
    }
   ],
   "source": [
    "np.save('molecular_fingerprints.npy', X)\n",
    "print(\"已将分子指纹特征矩阵保存为 'molecular_fingerprints.npy'\")\n"
   ]
  }
 ],
 "metadata": {
  "kernelspec": {
   "display_name": "a4s",
   "language": "python",
   "name": "python3"
  },
  "language_info": {
   "codemirror_mode": {
    "name": "ipython",
    "version": 3
   },
   "file_extension": ".py",
   "mimetype": "text/x-python",
   "name": "python",
   "nbconvert_exporter": "python",
   "pygments_lexer": "ipython3",
   "version": "3.10.18"
  }
 },
 "nbformat": 4,
 "nbformat_minor": 2
}

{
 "cells": [
  {
   "cell_type": "code",
   "execution_count": 2,
   "metadata": {},
   "outputs": [],
   "source": [
    "from rdkit import Chem\n",
    "from rdkit.Chem import AllChem\n",
    "from rdkit.Chem import Draw\n",
    "from rdkit.Chem import rdFingerprintGenerator   # for the fingerprint generation\n",
    "import numpy as np  # for the dimensionality reduction process of the fingerprint datas\n",
    "import os\n",
    "import pandas as pd\n",
    "from PIL import Image\n",
    "from rdkit.Chem.Draw import IPythonConsole\n",
    "IPythonConsole.ipython_useSVG=True"
   ]
  },
  {
   "cell_type": "code",
   "execution_count": 3,
   "metadata": {},
   "outputs": [],
   "source": [
    "work_dir = r\"E:\\Users\\clasper\\Documents\\杂七杂八\\2509\\AI4S\\2506靶点小分子活性预测\"\n",
    "os.chdir(work_dir)"
   ]
  },
  {
   "cell_type": "code",
   "execution_count": 4,
   "metadata": {},
   "outputs": [
    {
     "name": "stdout",
     "output_type": "stream",
     "text": [
      "200\n"
     ]
    }
   ],
   "source": [
    "smi_file = \"molecule.smi\"\n",
    "mol_ids = []\n",
    "mols = []\n",
    "invalid_mols = []\n",
    "\n",
    "with open(smi_file, \"r\") as f:\n",
    "    for line in f.readlines():\n",
    "        line = line.strip()\n",
    "        parts = line.split(\",\")\n",
    "        if parts[0] == \"molecule_id\":\n",
    "            continue\n",
    "        mol_id = parts[0].strip()\n",
    "        smiles = parts[1].strip()\n",
    "        mol = Chem.MolFromSmiles(smiles)\n",
    "        if mol is None:\n",
    "            invalid_mols.append((mol_id, smiles))\n",
    "            continue\n",
    "        mol_ids.append(mol_id)\n",
    "        mols.append(mol)\n",
    "\n",
    "print(len(mols))"
   ]
  },
  {
   "cell_type": "code",
   "execution_count": null,
   "metadata": {},
   "outputs": [],
   "source": [
    "grid_img = Draw.MolsToGridImage(\n",
    "    mols = mols, \n",
    "    molsPerRow = 20, \n",
    "    subImgSize = (500, 500), \n",
    "    legends = mol_ids, \n",
    "    maxMols=len(mols), \n",
    "    useSVG = True\n",
    ")\n",
    "# print(type(grid_img))\n",
    "\n",
    "svg_data = grid_img.data\n",
    "if isinstance(svg_data, bytes):\n",
    "    svg_str = svg_data.decode('utf-8')\n",
    "else:\n",
    "    svg_str = svg_data\n",
    "\n",
    "# with open(\"molecules.svg\", \"w\", encoding = \"utf-8\") as f:\n",
    "#     f.write(svg_str)"
   ]
  },
  {
   "cell_type": "code",
   "execution_count": 5,
   "metadata": {},
   "outputs": [
    {
     "name": "stdout",
     "output_type": "stream",
     "text": [
      "(200, 1024)\n"
     ]
    }
   ],
   "source": [
    "fps = []\n",
    "gen = rdFingerprintGenerator.GetMorganGenerator(radius = 2, fpSize = 1024)\n",
    "for mol in mols:\n",
    "    fingerprint = gen.GetFingerprint(mol)\n",
    "    if fingerprint:\n",
    "        fps.append(fingerprint)\n",
    "\n",
    "X = np.array(fps)\n",
    "print(X.shape)"
   ]
  },
  {
   "cell_type": "markdown",
   "metadata": {},
   "source": [
    "### 聚类"
   ]
  },
  {
   "cell_type": "code",
   "execution_count": 6,
   "metadata": {},
   "outputs": [],
   "source": [
    "from rdkit import DataStructs\n",
    "from rdkit.ML.Cluster import Butina"
   ]
  },
  {
   "cell_type": "code",
   "execution_count": 24,
   "metadata": {},
   "outputs": [],
   "source": [
    "def ClusterFps(fps, cutoff = 0.8):\n",
    "    dists = []\n",
    "    nfps = len(fps)\n",
    "    \n",
    "    # generate the distance matrix\n",
    "    for i in range(1, nfps):\n",
    "        sims = DataStructs.BulkTanimotoSimilarity(fps[i], fps[:i])\n",
    "        dists.extend([1 - x for x in sims])\n",
    "    \n",
    "    # cluster the data\n",
    "    cs = Butina.ClusterData(dists, nfps, cutoff, isDistData = True)\n",
    "    return cs"
   ]
  },
  {
   "cell_type": "code",
   "execution_count": 28,
   "metadata": {},
   "outputs": [
    {
     "data": {
      "text/plain": [
       "76"
      ]
     },
     "execution_count": 28,
     "metadata": {},
     "output_type": "execute_result"
    }
   ],
   "source": [
    "clusters = ClusterFps(fps)\n",
    "len(clusters)"
   ]
  },
  {
   "cell_type": "markdown",
   "metadata": {},
   "source": [
    "### 降维"
   ]
  },
  {
   "cell_type": "code",
   "execution_count": 26,
   "metadata": {},
   "outputs": [],
   "source": [
    "import pandas as pd\n",
    "from sklearn.manifold import TSNE"
   ]
  },
  {
   "cell_type": "code",
   "execution_count": 27,
   "metadata": {},
   "outputs": [
    {
     "ename": "ValueError",
     "evalue": "1 columns passed, passed data had 36 columns",
     "output_type": "error",
     "traceback": [
      "\u001b[31m---------------------------------------------------------------------------\u001b[39m",
      "\u001b[31mAssertionError\u001b[39m                            Traceback (most recent call last)",
      "\u001b[36mFile \u001b[39m\u001b[32md:\\Program Files\\anaconda3\\envs\\rdkit\\Lib\\site-packages\\pandas\\core\\internals\\construction.py:939\u001b[39m, in \u001b[36m_finalize_columns_and_data\u001b[39m\u001b[34m(content, columns, dtype)\u001b[39m\n\u001b[32m    938\u001b[39m \u001b[38;5;28;01mtry\u001b[39;00m:\n\u001b[32m--> \u001b[39m\u001b[32m939\u001b[39m     columns = \u001b[43m_validate_or_indexify_columns\u001b[49m\u001b[43m(\u001b[49m\u001b[43mcontents\u001b[49m\u001b[43m,\u001b[49m\u001b[43m \u001b[49m\u001b[43mcolumns\u001b[49m\u001b[43m)\u001b[49m\n\u001b[32m    940\u001b[39m \u001b[38;5;28;01mexcept\u001b[39;00m \u001b[38;5;167;01mAssertionError\u001b[39;00m \u001b[38;5;28;01mas\u001b[39;00m err:\n\u001b[32m    941\u001b[39m     \u001b[38;5;66;03m# GH#26429 do not raise user-facing AssertionError\u001b[39;00m\n",
      "\u001b[36mFile \u001b[39m\u001b[32md:\\Program Files\\anaconda3\\envs\\rdkit\\Lib\\site-packages\\pandas\\core\\internals\\construction.py:986\u001b[39m, in \u001b[36m_validate_or_indexify_columns\u001b[39m\u001b[34m(content, columns)\u001b[39m\n\u001b[32m    984\u001b[39m \u001b[38;5;28;01mif\u001b[39;00m \u001b[38;5;129;01mnot\u001b[39;00m is_mi_list \u001b[38;5;129;01mand\u001b[39;00m \u001b[38;5;28mlen\u001b[39m(columns) != \u001b[38;5;28mlen\u001b[39m(content):  \u001b[38;5;66;03m# pragma: no cover\u001b[39;00m\n\u001b[32m    985\u001b[39m     \u001b[38;5;66;03m# caller's responsibility to check for this...\u001b[39;00m\n\u001b[32m--> \u001b[39m\u001b[32m986\u001b[39m     \u001b[38;5;28;01mraise\u001b[39;00m \u001b[38;5;167;01mAssertionError\u001b[39;00m(\n\u001b[32m    987\u001b[39m         \u001b[33mf\u001b[39m\u001b[33m\"\u001b[39m\u001b[38;5;132;01m{\u001b[39;00m\u001b[38;5;28mlen\u001b[39m(columns)\u001b[38;5;132;01m}\u001b[39;00m\u001b[33m columns passed, passed data had \u001b[39m\u001b[33m\"\u001b[39m\n\u001b[32m    988\u001b[39m         \u001b[33mf\u001b[39m\u001b[33m\"\u001b[39m\u001b[38;5;132;01m{\u001b[39;00m\u001b[38;5;28mlen\u001b[39m(content)\u001b[38;5;132;01m}\u001b[39;00m\u001b[33m columns\u001b[39m\u001b[33m\"\u001b[39m\n\u001b[32m    989\u001b[39m     )\n\u001b[32m    990\u001b[39m \u001b[38;5;28;01mif\u001b[39;00m is_mi_list:\n\u001b[32m    991\u001b[39m     \u001b[38;5;66;03m# check if nested list column, length of each sub-list should be equal\u001b[39;00m\n",
      "\u001b[31mAssertionError\u001b[39m: 1 columns passed, passed data had 36 columns",
      "\nThe above exception was the direct cause of the following exception:\n",
      "\u001b[31mValueError\u001b[39m                                Traceback (most recent call last)",
      "\u001b[36mCell\u001b[39m\u001b[36m \u001b[39m\u001b[32mIn[27]\u001b[39m\u001b[32m, line 1\u001b[39m\n\u001b[32m----> \u001b[39m\u001b[32m1\u001b[39m df = \u001b[43mpd\u001b[49m\u001b[43m.\u001b[49m\u001b[43mDataFrame\u001b[49m\u001b[43m(\u001b[49m\u001b[43mclusters\u001b[49m\u001b[43m,\u001b[49m\u001b[43m \u001b[49m\u001b[43mcolumns\u001b[49m\u001b[43m \u001b[49m\u001b[43m=\u001b[49m\u001b[43m \u001b[49m\u001b[43m[\u001b[49m\u001b[33;43m'\u001b[39;49m\u001b[33;43mCluster\u001b[39;49m\u001b[33;43m'\u001b[39;49m\u001b[43m]\u001b[49m\u001b[43m)\u001b[49m\n\u001b[32m      2\u001b[39m df\n",
      "\u001b[36mFile \u001b[39m\u001b[32md:\\Program Files\\anaconda3\\envs\\rdkit\\Lib\\site-packages\\pandas\\core\\frame.py:851\u001b[39m, in \u001b[36mDataFrame.__init__\u001b[39m\u001b[34m(self, data, index, columns, dtype, copy)\u001b[39m\n\u001b[32m    849\u001b[39m     \u001b[38;5;28;01mif\u001b[39;00m columns \u001b[38;5;129;01mis\u001b[39;00m \u001b[38;5;129;01mnot\u001b[39;00m \u001b[38;5;28;01mNone\u001b[39;00m:\n\u001b[32m    850\u001b[39m         columns = ensure_index(columns)\n\u001b[32m--> \u001b[39m\u001b[32m851\u001b[39m     arrays, columns, index = \u001b[43mnested_data_to_arrays\u001b[49m\u001b[43m(\u001b[49m\n\u001b[32m    852\u001b[39m \u001b[43m        \u001b[49m\u001b[38;5;66;43;03m# error: Argument 3 to \"nested_data_to_arrays\" has incompatible\u001b[39;49;00m\n\u001b[32m    853\u001b[39m \u001b[43m        \u001b[49m\u001b[38;5;66;43;03m# type \"Optional[Collection[Any]]\"; expected \"Optional[Index]\"\u001b[39;49;00m\n\u001b[32m    854\u001b[39m \u001b[43m        \u001b[49m\u001b[43mdata\u001b[49m\u001b[43m,\u001b[49m\n\u001b[32m    855\u001b[39m \u001b[43m        \u001b[49m\u001b[43mcolumns\u001b[49m\u001b[43m,\u001b[49m\n\u001b[32m    856\u001b[39m \u001b[43m        \u001b[49m\u001b[43mindex\u001b[49m\u001b[43m,\u001b[49m\u001b[43m  \u001b[49m\u001b[38;5;66;43;03m# type: ignore[arg-type]\u001b[39;49;00m\n\u001b[32m    857\u001b[39m \u001b[43m        \u001b[49m\u001b[43mdtype\u001b[49m\u001b[43m,\u001b[49m\n\u001b[32m    858\u001b[39m \u001b[43m    \u001b[49m\u001b[43m)\u001b[49m\n\u001b[32m    859\u001b[39m     mgr = arrays_to_mgr(\n\u001b[32m    860\u001b[39m         arrays,\n\u001b[32m    861\u001b[39m         columns,\n\u001b[32m   (...)\u001b[39m\u001b[32m    864\u001b[39m         typ=manager,\n\u001b[32m    865\u001b[39m     )\n\u001b[32m    866\u001b[39m \u001b[38;5;28;01melse\u001b[39;00m:\n",
      "\u001b[36mFile \u001b[39m\u001b[32md:\\Program Files\\anaconda3\\envs\\rdkit\\Lib\\site-packages\\pandas\\core\\internals\\construction.py:520\u001b[39m, in \u001b[36mnested_data_to_arrays\u001b[39m\u001b[34m(data, columns, index, dtype)\u001b[39m\n\u001b[32m    517\u001b[39m \u001b[38;5;28;01mif\u001b[39;00m is_named_tuple(data[\u001b[32m0\u001b[39m]) \u001b[38;5;129;01mand\u001b[39;00m columns \u001b[38;5;129;01mis\u001b[39;00m \u001b[38;5;28;01mNone\u001b[39;00m:\n\u001b[32m    518\u001b[39m     columns = ensure_index(data[\u001b[32m0\u001b[39m]._fields)\n\u001b[32m--> \u001b[39m\u001b[32m520\u001b[39m arrays, columns = \u001b[43mto_arrays\u001b[49m\u001b[43m(\u001b[49m\u001b[43mdata\u001b[49m\u001b[43m,\u001b[49m\u001b[43m \u001b[49m\u001b[43mcolumns\u001b[49m\u001b[43m,\u001b[49m\u001b[43m \u001b[49m\u001b[43mdtype\u001b[49m\u001b[43m=\u001b[49m\u001b[43mdtype\u001b[49m\u001b[43m)\u001b[49m\n\u001b[32m    521\u001b[39m columns = ensure_index(columns)\n\u001b[32m    523\u001b[39m \u001b[38;5;28;01mif\u001b[39;00m index \u001b[38;5;129;01mis\u001b[39;00m \u001b[38;5;28;01mNone\u001b[39;00m:\n",
      "\u001b[36mFile \u001b[39m\u001b[32md:\\Program Files\\anaconda3\\envs\\rdkit\\Lib\\site-packages\\pandas\\core\\internals\\construction.py:845\u001b[39m, in \u001b[36mto_arrays\u001b[39m\u001b[34m(data, columns, dtype)\u001b[39m\n\u001b[32m    842\u001b[39m     data = [\u001b[38;5;28mtuple\u001b[39m(x) \u001b[38;5;28;01mfor\u001b[39;00m x \u001b[38;5;129;01min\u001b[39;00m data]\n\u001b[32m    843\u001b[39m     arr = _list_to_arrays(data)\n\u001b[32m--> \u001b[39m\u001b[32m845\u001b[39m content, columns = \u001b[43m_finalize_columns_and_data\u001b[49m\u001b[43m(\u001b[49m\u001b[43marr\u001b[49m\u001b[43m,\u001b[49m\u001b[43m \u001b[49m\u001b[43mcolumns\u001b[49m\u001b[43m,\u001b[49m\u001b[43m \u001b[49m\u001b[43mdtype\u001b[49m\u001b[43m)\u001b[49m\n\u001b[32m    846\u001b[39m \u001b[38;5;28;01mreturn\u001b[39;00m content, columns\n",
      "\u001b[36mFile \u001b[39m\u001b[32md:\\Program Files\\anaconda3\\envs\\rdkit\\Lib\\site-packages\\pandas\\core\\internals\\construction.py:942\u001b[39m, in \u001b[36m_finalize_columns_and_data\u001b[39m\u001b[34m(content, columns, dtype)\u001b[39m\n\u001b[32m    939\u001b[39m     columns = _validate_or_indexify_columns(contents, columns)\n\u001b[32m    940\u001b[39m \u001b[38;5;28;01mexcept\u001b[39;00m \u001b[38;5;167;01mAssertionError\u001b[39;00m \u001b[38;5;28;01mas\u001b[39;00m err:\n\u001b[32m    941\u001b[39m     \u001b[38;5;66;03m# GH#26429 do not raise user-facing AssertionError\u001b[39;00m\n\u001b[32m--> \u001b[39m\u001b[32m942\u001b[39m     \u001b[38;5;28;01mraise\u001b[39;00m \u001b[38;5;167;01mValueError\u001b[39;00m(err) \u001b[38;5;28;01mfrom\u001b[39;00m\u001b[38;5;250m \u001b[39m\u001b[34;01merr\u001b[39;00m\n\u001b[32m    944\u001b[39m \u001b[38;5;28;01mif\u001b[39;00m \u001b[38;5;28mlen\u001b[39m(contents) \u001b[38;5;129;01mand\u001b[39;00m contents[\u001b[32m0\u001b[39m].dtype == np.object_:\n\u001b[32m    945\u001b[39m     contents = convert_object_array(contents, dtype=dtype)\n",
      "\u001b[31mValueError\u001b[39m: 1 columns passed, passed data had 36 columns"
     ]
    }
   ],
   "source": [
    "df = pd.DataFrame(clusters, columns = ['Cluster'])\n",
    "df"
   ]
  },
  {
   "cell_type": "code",
   "execution_count": 11,
   "metadata": {},
   "outputs": [],
   "source": [
    "tsne_model = TSNE(n_components = 2, random_state = 42, perplexity = 20, max_iter = 5000)\n",
    "tsne_result = tsne_model.fit_transform(X)"
   ]
  },
  {
   "cell_type": "code",
   "execution_count": 12,
   "metadata": {},
   "outputs": [
    {
     "data": {
      "application/vnd.microsoft.datawrangler.viewer.v0+json": {
       "columns": [
        {
         "name": "index",
         "rawType": "int64",
         "type": "integer"
        },
        {
         "name": "Cluster",
         "rawType": "int64",
         "type": "integer"
        },
        {
         "name": "tSNE_1",
         "rawType": "float32",
         "type": "float"
        },
        {
         "name": "tSNE_2",
         "rawType": "float32",
         "type": "float"
        }
       ],
       "ref": "d197c25d-aaf2-449b-b0c5-a533b279b34c",
       "rows": [
        [
         "0",
         "199",
         "-2.5572438",
         "-3.0335953"
        ],
        [
         "1",
         "198",
         "2.484569",
         "-2.9446018"
        ],
        [
         "2",
         "197",
         "0.7363006",
         "0.76210725"
        ],
        [
         "3",
         "196",
         "-2.026211",
         "0.37331668"
        ],
        [
         "4",
         "195",
         "-1.0782932",
         "0.7931822"
        ],
        [
         "5",
         "194",
         "0.8559436",
         "0.626584"
        ],
        [
         "6",
         "193",
         "-0.36553535",
         "0.7040802"
        ],
        [
         "7",
         "192",
         "-0.39197338",
         "2.3449507"
        ],
        [
         "8",
         "191",
         "-2.4525726",
         "-4.6398273"
        ],
        [
         "9",
         "190",
         "-1.3044828",
         "-1.7778976"
        ],
        [
         "10",
         "189",
         "0.59029794",
         "-5.1478276"
        ],
        [
         "11",
         "188",
         "-0.36602643",
         "-5.011756"
        ],
        [
         "12",
         "187",
         "0.3976621",
         "3.098492"
        ],
        [
         "13",
         "186",
         "-1.261728",
         "2.0306456"
        ],
        [
         "14",
         "185",
         "2.0021622",
         "-5.28314"
        ],
        [
         "15",
         "184",
         "0.9538123",
         "-3.0939891"
        ],
        [
         "16",
         "183",
         "-2.7939026",
         "2.301657"
        ],
        [
         "17",
         "182",
         "-1.5284778",
         "-0.5050489"
        ],
        [
         "18",
         "181",
         "-0.31013653",
         "0.7319757"
        ],
        [
         "19",
         "180",
         "2.9866662",
         "1.3734796"
        ],
        [
         "20",
         "179",
         "-2.5490475",
         "2.1873896"
        ],
        [
         "21",
         "178",
         "-0.16165914",
         "-2.7860868"
        ],
        [
         "22",
         "177",
         "-4.7000628",
         "1.7009957"
        ],
        [
         "23",
         "176",
         "-2.3737545",
         "0.34362546"
        ],
        [
         "24",
         "175",
         "0.9773038",
         "-3.5764723"
        ],
        [
         "25",
         "174",
         "-2.4763308",
         "-1.8469107"
        ],
        [
         "26",
         "173",
         "1.2954173",
         "3.610934"
        ],
        [
         "27",
         "172",
         "-3.1622493",
         "-0.015556247"
        ],
        [
         "28",
         "171",
         "-1.530586",
         "0.084648155"
        ],
        [
         "29",
         "170",
         "-2.763845",
         "4.010854"
        ],
        [
         "30",
         "169",
         "0.34594363",
         "-0.9085695"
        ],
        [
         "31",
         "168",
         "-2.0653968",
         "3.4792614"
        ],
        [
         "32",
         "167",
         "0.16623156",
         "4.2952366"
        ],
        [
         "33",
         "166",
         "-0.23067394",
         "1.7523794"
        ],
        [
         "34",
         "165",
         "0.063896544",
         "-1.2335337"
        ],
        [
         "35",
         "164",
         "0.73431677",
         "0.012113588"
        ],
        [
         "36",
         "163",
         "2.6259472",
         "1.3808433"
        ],
        [
         "37",
         "162",
         "-2.0600672",
         "-4.333084"
        ],
        [
         "38",
         "161",
         "1.3798753",
         "-2.515844"
        ],
        [
         "39",
         "160",
         "0.29221722",
         "-4.9008517"
        ],
        [
         "40",
         "159",
         "-5.0792956",
         "-2.0575132"
        ],
        [
         "41",
         "158",
         "1.663364",
         "2.7135797"
        ],
        [
         "42",
         "157",
         "0.06919191",
         "-4.0102897"
        ],
        [
         "43",
         "156",
         "1.0782182",
         "-4.154044"
        ],
        [
         "44",
         "155",
         "-0.66414684",
         "-1.5463012"
        ],
        [
         "45",
         "154",
         "-0.9402849",
         "-0.44095725"
        ],
        [
         "46",
         "153",
         "-1.2579396",
         "-1.4633341"
        ],
        [
         "47",
         "152",
         "-1.0132196",
         "-1.543396"
        ],
        [
         "48",
         "151",
         "-3.3612242",
         "-0.04467892"
        ],
        [
         "49",
         "150",
         "0.39092433",
         "-2.4618871"
        ]
       ],
       "shape": {
        "columns": 3,
        "rows": 200
       }
      },
      "text/html": [
       "<div>\n",
       "<style scoped>\n",
       "    .dataframe tbody tr th:only-of-type {\n",
       "        vertical-align: middle;\n",
       "    }\n",
       "\n",
       "    .dataframe tbody tr th {\n",
       "        vertical-align: top;\n",
       "    }\n",
       "\n",
       "    .dataframe thead th {\n",
       "        text-align: right;\n",
       "    }\n",
       "</style>\n",
       "<table border=\"1\" class=\"dataframe\">\n",
       "  <thead>\n",
       "    <tr style=\"text-align: right;\">\n",
       "      <th></th>\n",
       "      <th>Cluster</th>\n",
       "      <th>tSNE_1</th>\n",
       "      <th>tSNE_2</th>\n",
       "    </tr>\n",
       "  </thead>\n",
       "  <tbody>\n",
       "    <tr>\n",
       "      <th>0</th>\n",
       "      <td>199</td>\n",
       "      <td>-2.557244</td>\n",
       "      <td>-3.033595</td>\n",
       "    </tr>\n",
       "    <tr>\n",
       "      <th>1</th>\n",
       "      <td>198</td>\n",
       "      <td>2.484569</td>\n",
       "      <td>-2.944602</td>\n",
       "    </tr>\n",
       "    <tr>\n",
       "      <th>2</th>\n",
       "      <td>197</td>\n",
       "      <td>0.736301</td>\n",
       "      <td>0.762107</td>\n",
       "    </tr>\n",
       "    <tr>\n",
       "      <th>3</th>\n",
       "      <td>196</td>\n",
       "      <td>-2.026211</td>\n",
       "      <td>0.373317</td>\n",
       "    </tr>\n",
       "    <tr>\n",
       "      <th>4</th>\n",
       "      <td>195</td>\n",
       "      <td>-1.078293</td>\n",
       "      <td>0.793182</td>\n",
       "    </tr>\n",
       "    <tr>\n",
       "      <th>...</th>\n",
       "      <td>...</td>\n",
       "      <td>...</td>\n",
       "      <td>...</td>\n",
       "    </tr>\n",
       "    <tr>\n",
       "      <th>195</th>\n",
       "      <td>4</td>\n",
       "      <td>-3.812383</td>\n",
       "      <td>0.789728</td>\n",
       "    </tr>\n",
       "    <tr>\n",
       "      <th>196</th>\n",
       "      <td>3</td>\n",
       "      <td>1.322781</td>\n",
       "      <td>2.771949</td>\n",
       "    </tr>\n",
       "    <tr>\n",
       "      <th>197</th>\n",
       "      <td>2</td>\n",
       "      <td>-3.973728</td>\n",
       "      <td>3.724444</td>\n",
       "    </tr>\n",
       "    <tr>\n",
       "      <th>198</th>\n",
       "      <td>1</td>\n",
       "      <td>-0.936178</td>\n",
       "      <td>-0.882249</td>\n",
       "    </tr>\n",
       "    <tr>\n",
       "      <th>199</th>\n",
       "      <td>0</td>\n",
       "      <td>0.088749</td>\n",
       "      <td>-3.617695</td>\n",
       "    </tr>\n",
       "  </tbody>\n",
       "</table>\n",
       "<p>200 rows × 3 columns</p>\n",
       "</div>"
      ],
      "text/plain": [
       "     Cluster    tSNE_1    tSNE_2\n",
       "0        199 -2.557244 -3.033595\n",
       "1        198  2.484569 -2.944602\n",
       "2        197  0.736301  0.762107\n",
       "3        196 -2.026211  0.373317\n",
       "4        195 -1.078293  0.793182\n",
       "..       ...       ...       ...\n",
       "195        4 -3.812383  0.789728\n",
       "196        3  1.322781  2.771949\n",
       "197        2 -3.973728  3.724444\n",
       "198        1 -0.936178 -0.882249\n",
       "199        0  0.088749 -3.617695\n",
       "\n",
       "[200 rows x 3 columns]"
      ]
     },
     "execution_count": 12,
     "metadata": {},
     "output_type": "execute_result"
    }
   ],
   "source": [
    "# tsne_result\n",
    "df['tSNE_1'] = tsne_result[:, 0]\n",
    "df['tSNE_2'] = tsne_result[:, 1]\n",
    "\n",
    "df"
   ]
  },
  {
   "cell_type": "markdown",
   "metadata": {},
   "source": [
    "### 可视化"
   ]
  },
  {
   "cell_type": "code",
   "execution_count": 13,
   "metadata": {},
   "outputs": [
    {
     "data": {
      "image/png": "[encoded data removed]",
      "text/plain": [
       "<Figure size 640x480 with 1 Axes>"
      ]
     },
     "metadata": {},
     "output_type": "display_data"
    }
   ],
   "source": [
    "import matplotlib.pyplot as plt\n",
    "import seaborn as sns\n",
    "\n",
    "sns.set()\n",
    "sns.scatterplot(x='tSNE_1', y='tSNE_2', hue='Cluster', s = 15,  data=df, alpha=0.2, edgecolors='none')\n",
    "plt.show()"
   ]
  },
  {
   "cell_type": "code",
   "execution_count": 28,
   "metadata": {},
   "outputs": [
    {
     "name": "stdout",
     "output_type": "stream",
     "text": [
      "(self, n_components=2, *, perplexity=30.0, early_exaggeration=12.0, learning_rate='auto', max_iter=1000, n_iter_without_progress=300, min_grad_norm=1e-07, metric='euclidean', metric_params=None, init='pca', verbose=0, random_state=None, method='barnes_hut', angle=0.5, n_jobs=None)\n"
     ]
    }
   ],
   "source": [
    "import inspect\n",
    "from sklearn.manifold import TSNE\n",
    "print(inspect.signature(TSNE.__init__))"
   ]
  }
 ],
 "metadata": {
  "kernelspec": {
   "display_name": "rdkit",
   "language": "python",
   "name": "python3"
  },
  "language_info": {
   "codemirror_mode": {
    "name": "ipython",
    "version": 3
   },
   "file_extension": ".py",
   "mimetype": "text/x-python",
   "name": "python",
   "nbconvert_exporter": "python",
   "pygments_lexer": "ipython3",
   "version": "3.11.11"
  }
 },
 "nbformat": 4,
 "nbformat_minor": 2
}
